{
 "metadata": {
  "language_info": {
   "codemirror_mode": {
    "name": "ipython",
    "version": 3
   },
   "file_extension": ".py",
   "mimetype": "text/x-python",
   "name": "python",
   "nbconvert_exporter": "python",
   "pygments_lexer": "ipython3",
   "version": "3.8.5-final"
  },
  "orig_nbformat": 2,
  "kernelspec": {
   "name": "Python 3.8.5 64-bit ('.venv': venv)",
   "display_name": "Python 3.8.5 64-bit ('.venv': venv)",
   "metadata": {
    "interpreter": {
     "hash": "f92e86e2354309bcb59a98d7fad2aae92ff21b5d58d87da4df92bd3eb2f22066"
    }
   }
  }
 },
 "nbformat": 4,
 "nbformat_minor": 2,
 "cells": [
  {
   "cell_type": "code",
   "execution_count": 1,
   "metadata": {
    "tags": []
   },
   "outputs": [],
   "source": [
    "from pyhanlp import *"
   ]
  },
  {
   "cell_type": "code",
   "execution_count": 5,
   "metadata": {
    "tags": []
   },
   "outputs": [
    {
     "output_type": "stream",
     "name": "stdout",
     "text": "知唔知/v 點解/v 我/r 咁/v 得意/a ？/w\n"
    }
   ],
   "source": [
    "analyzer = PerceptronLexicalAnalyzer()\n",
    "text = '知唔知點解我咁得意？'\n",
    "print(analyzer.analyze(text))"
   ]
  },
  {
   "cell_type": "code",
   "execution_count": 6,
   "metadata": {
    "tags": []
   },
   "outputs": [
    {
     "output_type": "stream",
     "name": "stdout",
     "text": "知\tv\n唔\ty\n知\tv\n點\tqt\n解\tv\n我\trr\n咁\tw\n得意\ta\n？\tw\n"
    }
   ],
   "source": [
    "for term in HanLP.segment(text):\n",
    "    print('{}\\t{}'.format(term.word, term.nature))"
   ]
  },
  {
   "cell_type": "code",
   "execution_count": 8,
   "metadata": {
    "tags": []
   },
   "outputs": [
    {
     "output_type": "stream",
     "name": "stdout",
     "text": "1\t知唔知\t知唔知\tv\tv\t_\t2\tSBV\t_\t_\n2\t點解\t點解\tv\tv\t_\t0\tHED\t_\t_\n3\t我\t我\tr\tr\t_\t4\tSBV\t_\t_\n4\t咁\t咁\tv\tv\t_\t2\tCOO\t_\t_\n5\t得意\t得意\ta\ta\t_\t4\tCMP\t_\t_\n6\t？\t？\twp\tw\t_\t2\tWP\t_\t_\n\n"
    }
   ],
   "source": [
    "parser = JClass('com.hankcs.hanlp.dependency.nnparser.NeuralNetworkDependencyParser')()\n",
    "parser.enableDeprelTranslator(False)\n",
    "parser.setSegment(analyzer._proxy)\n",
    "print(parser.parse(text))"
   ]
  }
 ]
}