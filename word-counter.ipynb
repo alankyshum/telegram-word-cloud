{
 "metadata": {
  "language_info": {
   "codemirror_mode": {
    "name": "ipython",
    "version": 3
   },
   "file_extension": ".py",
   "mimetype": "text/x-python",
   "name": "python",
   "nbconvert_exporter": "python",
   "pygments_lexer": "ipython3",
   "version": "3.8.5-final"
  },
  "orig_nbformat": 2,
  "kernelspec": {
   "name": "python_defaultSpec_1601149690812",
   "display_name": "Python 3.8.5 64-bit ('.venv')"
  }
 },
 "nbformat": 4,
 "nbformat_minor": 2,
 "cells": [
  {
   "cell_type": "code",
   "execution_count": 1,
   "metadata": {
    "tags": []
   },
   "outputs": [],
   "source": [
    "from pyhanlp import *"
   ]
  },
  {
   "cell_type": "code",
   "execution_count": 5,
   "metadata": {
    "tags": []
   },
   "outputs": [
    {
     "output_type": "stream",
     "name": "stdout",
     "text": "知唔知/v 點解/v 我/r 咁/v 得意/a ？/w\n"
    }
   ],
   "source": [
    "analyzer = PerceptronLexicalAnalyzer()\n",
    "text = '知唔知點解我咁得意？'\n",
    "print(analyzer.analyze(text))"
   ]
  },
  {
   "cell_type": "code",
   "execution_count": 6,
   "metadata": {
    "tags": []
   },
   "outputs": [
    {
     "output_type": "stream",
     "name": "stdout",
     "text": "知\tv\n唔\ty\n知\tv\n點\tqt\n解\tv\n我\trr\n咁\tw\n得意\ta\n？\tw\n"
    }
   ],
   "source": [
    "for term in HanLP.segment(text):\n",
    "    print('{}\\t{}'.format(term.word, term.nature))"
   ]
  },
  {
   "cell_type": "code",
   "execution_count": 8,
   "metadata": {
    "tags": []
   },
   "outputs": [
    {
     "output_type": "stream",
     "name": "stdout",
     "text": "1\t知唔知\t知唔知\tv\tv\t_\t2\tSBV\t_\t_\n2\t點解\t點解\tv\tv\t_\t0\tHED\t_\t_\n3\t我\t我\tr\tr\t_\t4\tSBV\t_\t_\n4\t咁\t咁\tv\tv\t_\t2\tCOO\t_\t_\n5\t得意\t得意\ta\ta\t_\t4\tCMP\t_\t_\n6\t？\t？\twp\tw\t_\t2\tWP\t_\t_\n\n"
    }
   ],
   "source": [
    "parser = JClass('com.hankcs.hanlp.dependency.nnparser.NeuralNetworkDependencyParser')()\n",
    "parser.enableDeprelTranslator(False)\n",
    "parser.setSegment(analyzer._proxy)\n",
    "print(parser.parse(text))"
   ]
  },
  {
   "source": [
    "## Import Telegram JSON file"
   ],
   "cell_type": "markdown",
   "metadata": {}
  },
  {
   "cell_type": "code",
   "execution_count": 1,
   "metadata": {},
   "outputs": [],
   "source": [
    "import json\n",
    "import pandas as pd"
   ]
  },
  {
   "cell_type": "code",
   "execution_count": 5,
   "metadata": {
    "tags": []
   },
   "outputs": [
    {
     "output_type": "stream",
     "name": "stdout",
     "text": "      name           type          id  \\\n0      胡嘉琳  personal_chat  4607714192   \n1      胡嘉琳  personal_chat  4607714192   \n2      胡嘉琳  personal_chat  4607714192   \n3      胡嘉琳  personal_chat  4607714192   \n4      胡嘉琳  personal_chat  4607714192   \n...    ...            ...         ...   \n84434  胡嘉琳  personal_chat  4607714192   \n84435  胡嘉琳  personal_chat  4607714192   \n84436  胡嘉琳  personal_chat  4607714192   \n84437  胡嘉琳  personal_chat  4607714192   \n84438  胡嘉琳  personal_chat  4607714192   \n\n                                                messages  \n0      {'id': 41460, 'type': 'message', 'date': '2018...  \n1      {'id': 41462, 'type': 'message', 'date': '2018...  \n2      {'id': 41463, 'type': 'message', 'date': '2018...  \n3      {'id': 41464, 'type': 'message', 'date': '2018...  \n4      {'id': 41465, 'type': 'message', 'date': '2018...  \n...                                                  ...  \n84434  {'id': 152020, 'type': 'message', 'date': '202...  \n84435  {'id': 152021, 'type': 'message', 'date': '202...  \n84436  {'id': 152022, 'type': 'message', 'date': '202...  \n84437  {'id': 152023, 'type': 'message', 'date': '202...  \n84438  {'id': 152024, 'type': 'message', 'date': '202...  \n\n[84439 rows x 4 columns]\n"
    }
   ],
   "source": [
    "messages_df = pd.read_json(r'./data/telegram_export.json', orient='record')\n",
    "print(messages_df)"
   ]
  },
  {
   "source": [
    "## Join messages from each recipient"
   ],
   "cell_type": "markdown",
   "metadata": {}
  },
  {
   "source": [
    "## Tokenize message from each recipient"
   ],
   "cell_type": "markdown",
   "metadata": {}
  },
  {
   "source": [
    "## Message word count from each recipient"
   ],
   "cell_type": "markdown",
   "metadata": {}
  }
 ]
}